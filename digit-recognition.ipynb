{
 "cells": [
  {
   "cell_type": "markdown",
   "metadata": {},
   "source": [
    "# Digit Recognition"
   ]
  },
  {
   "cell_type": "markdown",
   "metadata": {},
   "source": [
    "This notebook will explain a digit recognition script I have written in python as part of my emerging technologies module.\n",
    "\n",
    "The aim was to:\n",
    "1. load the MNIST dataset into memory\n",
    "2. create and train a neural network that can recognise handwritten digits\n",
    "3. create a working model\n",
    "4. have the ability to import a handwritten image from your own machine\n",
    "5. have the model interperate the digit "
   ]
  },
  {
   "cell_type": "markdown",
   "metadata": {},
   "source": [
    "#### Getting Started\n",
    "To run this notebook you must first download the [MNIST](http://yann.lecun.com/exdb/mnist/) dataset and save them in a folder called data. This is an important step as the data folder will be used to save the model later in the program.\n",
    "![data](img/dataSet.PNG)"
   ]
  },
  {
   "cell_type": "markdown",
   "metadata": {},
   "source": [
    "## Imports needed"
   ]
  },
  {
   "cell_type": "code",
   "execution_count": 1,
   "metadata": {},
   "outputs": [
    {
     "name": "stderr",
     "output_type": "stream",
     "text": [
      "C:\\Users\\jono-\\Anaconda3\\lib\\site-packages\\h5py\\__init__.py:36: FutureWarning: Conversion of the second argument of issubdtype from `float` to `np.floating` is deprecated. In future, it will be treated as `np.float64 == np.dtype(float).type`.\n",
      "  from ._conv import register_converters as _register_converters\n",
      "Using TensorFlow backend.\n"
     ]
    }
   ],
   "source": [
    "# imports needed\n",
    "import gzip\n",
    "import os.path\n",
    "import tkinter as tk\n",
    "from random import randint\n",
    "from tkinter import filedialog\n",
    "\n",
    "import keras as kr\n",
    "import matplotlib.pyplot as plt\n",
    "import numpy as np\n",
    "import sklearn.preprocessing as pre\n",
    "from keras.preprocessing import image"
   ]
  },
  {
   "cell_type": "markdown",
   "metadata": {},
   "source": [
    "## Cretaing the network"
   ]
  },
  {
   "cell_type": "markdown",
   "metadata": {},
   "source": [
    "Add layers to the network using the sequential model"
   ]
  },
  {
   "cell_type": "code",
   "execution_count": 2,
   "metadata": {},
   "outputs": [],
   "source": [
    "model = kr.models.Sequential()\n",
    "\n",
    "# Add a hidden layer with 1000 neurons and an input layer with 784.\n",
    "model.add(kr.layers.Dense(units=1000, activation='relu', input_dim=784))\n",
    "model.add(kr.layers.Dense(units=1000, activation='relu'))\n",
    "model.add(kr.layers.Dense(units=1000, activation='relu'))\n",
    "model.add(kr.layers.Dense(units=1000, activation='relu'))\n",
    "\n",
    "# Add a 10 neuron output layer.\n",
    "model.add(kr.layers.Dense(units=10, activation='softmax'))\n",
    "\n",
    "# Build the graph.\n",
    "model.compile(loss='categorical_crossentropy', optimizer='sgd', metrics=['accuracy'])"
   ]
  },
  {
   "cell_type": "markdown",
   "metadata": {},
   "source": [
    "Helpful resource on the sequential model available [here](https://keras.io/getting-started/sequential-model-guide/)"
   ]
  },
  {
   "cell_type": "markdown",
   "metadata": {},
   "source": [
    "### Hidden Layers\n",
    "A hidden layer in an artificial neural network is a layer in between input layers and output layers. The first 4 layers are hidden and they are used to read in the dataset and begin to train the network.\n",
    "### Output Layers\n",
    "The output layer in an artificial neural network is the last layer of neurons that produces given outputs for the program. Though they are made much like other artificial neurons in the neural network, output layer neurons may be built or observed in a different way, given that they are the last “actor” nodes on the network."
   ]
  },
  {
   "cell_type": "markdown",
   "metadata": {},
   "source": [
    "#### Use gzip to unzip the files"
   ]
  },
  {
   "cell_type": "code",
   "execution_count": 3,
   "metadata": {},
   "outputs": [],
   "source": [
    "# Unzips the files and reads in as bytes\n",
    "with gzip.open('data/train-images-idx3-ubyte.gz', 'rb') as f:\n",
    "    train_img = f.read()\n",
    "\n",
    "with gzip.open('data/train-labels-idx1-ubyte.gz', 'rb') as f:\n",
    "    train_lbl = f.read()"
   ]
  },
  {
   "cell_type": "markdown",
   "metadata": {},
   "source": [
    "Read in the 60000 images in the files and reshapes them into 28*28 pixel array. Then we print the value of the first image along with its binary value."
   ]
  },
  {
   "cell_type": "code",
   "execution_count": 4,
   "metadata": {},
   "outputs": [
    {
     "name": "stdout",
     "output_type": "stream",
     "text": [
      "5 [0 0 0 0 0 1 0 0 0 0]\n"
     ]
    }
   ],
   "source": [
    "# reads them into memory \n",
    "train_img = ~np.array(list(train_img[16:])).reshape(60000, 28, 28).astype(np.uint8)\n",
    "train_lbl =  np.array(list(train_lbl[ 8:])).astype(np.uint8)\n",
    "\n",
    "inputs = train_img.reshape(60000, 784)/255\n",
    "# For encoding categorical variables.\n",
    "encoder = pre.LabelBinarizer()\n",
    "encoder.fit(train_lbl)\n",
    "outputs = encoder.transform(train_lbl)\n",
    "\n",
    "print(train_lbl[0], outputs[0])"
   ]
  },
  {
   "cell_type": "markdown",
   "metadata": {},
   "source": [
    "If the model already exists then it is loaded in from the data folder. If the model is not already saved then training begins and then it is saved to the folder."
   ]
  },
  {
   "cell_type": "code",
   "execution_count": 5,
   "metadata": {},
   "outputs": [],
   "source": [
    "if os.path.isfile('data/model.h5'): \n",
    "        model = kr.models.load_model('data/model.h5')\n",
    "# if model already exist uses it\n",
    "else:\n",
    "    model.fit(inputs, outputs, epochs=15, batch_size=100)\n",
    "    model.save(\"data/model.h5\")\n",
    "    #makes model and saves it "
   ]
  },
  {
   "cell_type": "markdown",
   "metadata": {},
   "source": [
    "Unzip and load the test images and labels into memory. The images and labels are then shaped into single arrays."
   ]
  },
  {
   "cell_type": "code",
   "execution_count": 6,
   "metadata": {},
   "outputs": [
    {
     "name": "stdout",
     "output_type": "stream",
     "text": [
      "\n",
      "Model  is 96.01 % Accurate\n",
      "\n",
      "\n",
      "Model has been created or loaded into memory\n"
     ]
    }
   ],
   "source": [
    "with gzip.open('data/t10k-images-idx3-ubyte.gz', 'rb') as f:\n",
    "    test_img = f.read()\n",
    "\n",
    "with gzip.open('data/t10k-labels-idx1-ubyte.gz', 'rb') as f:\n",
    "    test_lbl = f.read()\n",
    "    \n",
    "test_img = ~np.array(list(test_img[16:])).reshape(10000, 784).astype(np.uint8)\n",
    "test_lbl =  np.array(list(test_lbl[ 8:])).astype(np.uint8)\n",
    "\n",
    "outcome = (encoder.inverse_transform(model.predict(test_img)) == test_lbl).sum()\n",
    "print(\"\\nModel  is\", outcome/100,\"% Accurate\\n\")\n",
    "print(\"\\nModel has been created or loaded into memory\")"
   ]
  },
  {
   "cell_type": "markdown",
   "metadata": {},
   "source": [
    "When the program starts the user is prompted to choose an option:\n",
    "1. Load an image\n",
    "2. Run tests\n",
    "3. Exit\n",
    "\n",
    "Option 1 allows the user to load an image from their own machine.\n",
    "* I would recomend creating some test samples of your own using paint or gimp\n",
    "Once the image is loaded the program will make its own prediction of what it thinks the digit is.\n",
    "\n",
    "Option 2 allows the user to run tests.\n",
    "It grabs a user defined number of random tests from the data and makes its predictions.\n",
    "It then outputs the information to screen.\n"
   ]
  },
  {
   "cell_type": "code",
   "execution_count": 7,
   "metadata": {},
   "outputs": [],
   "source": [
    "def testCases():\n",
    "    amm = int(input(\"How many tests would you like to run  \"))\n",
    "    from random import randint\n",
    "    for i in range(amm):\n",
    "        print(\"Test Number : \", i+1,\"\\n\")\n",
    "        x = randint(0, 9999)\n",
    "\n",
    "        print(\"The random index: \", x, \"\\n\")\n",
    "        print(\"The result array: \")\n",
    "        test = model.predict(test_img[x:x+1])\n",
    "        # Print the result array\n",
    "        print(test, \"\\n\")\n",
    "        # Get the maximum value from the machine predictions\n",
    "        pred_result = test.argmax(axis=1)\n",
    "\n",
    "        print(\"The program predicted : =>> \",  pred_result)\n",
    "        print(\"The number is : =>> \", test_lbl[x:x+1])\n",
    "        print(\"===================\")"
   ]
  },
  {
   "cell_type": "markdown",
   "metadata": {},
   "source": [
    "![menu](img/menu.PNG)\n",
    "Option 1"
   ]
  },
  {
   "cell_type": "markdown",
   "metadata": {},
   "source": [
    "Window opens on your machine.\n",
    "![window](img/window.PNG)\n",
    "I choose six.png to test"
   ]
  },
  {
   "cell_type": "code",
   "execution_count": 8,
   "metadata": {},
   "outputs": [],
   "source": [
    "def loadImage():\n",
    "    root = tk.Tk()\n",
    "    root.withdraw()\n",
    "    #https://stackoverflow.com/questions/9319317/quick-and-easy-file-dialog-in-python\n",
    "    file_path = filedialog.askopenfilename()# opens file select window\n",
    "    img = image.load_img(path=file_path,color_mode = \"grayscale\",target_size=(28,28,1))\n",
    "    image1 = np.array(list(image.img_to_array(img))).reshape(1, 784).astype(np.uint8) / 255.0\n",
    "    # shapes array \n",
    "    plt.imshow(img)\n",
    "    plt.show()\n",
    "    # plots and displays image\n",
    "    test = model.predict(image1)\n",
    "    # runs test of image on model\n",
    "    print(\"program has predicted : \", test.argmax(axis=1))\n",
    "#https://towardsdatascience.com/basics-of-image-classification-with-keras-43779a299c8b"
   ]
  },
  {
   "cell_type": "markdown",
   "metadata": {},
   "source": [
    "How the program viewed the image\n",
    "![window2](img/window2.PNG)"
   ]
  },
  {
   "cell_type": "code",
   "execution_count": null,
   "metadata": {},
   "outputs": [
    {
     "name": "stdout",
     "output_type": "stream",
     "text": [
      "Load an image on your system\n",
      "============================\n",
      "        1 Load an image\n",
      "        2 Run test\n",
      "        3 Exit \n",
      "Choose an option 1\n",
      "============================\n"
     ]
    },
    {
     "data": {
      "image/png": "[encoded data removed]",
      "text/plain": [
       "<Figure size 432x288 with 1 Axes>"
      ]
     },
     "metadata": {},
     "output_type": "display_data"
    },
    {
     "name": "stdout",
     "output_type": "stream",
     "text": [
      "program has predicted :  [6]\n",
      "============================\n",
      "        1 Load an image\n",
      "        2 Run test\n",
      "        3 Exit \n",
      "Choose an option 2\n",
      "============================\n",
      "How many tests would you like to run  3\n",
      "Test Number :  1 \n",
      "\n",
      "The random index:  2315 \n",
      "\n",
      "The result array: \n",
      "[[0. 1. 0. 0. 0. 0. 0. 0. 0. 0.]] \n",
      "\n",
      "The program predicted : =>>  [1]\n",
      "The number is : =>>  [1]\n",
      "===================\n",
      "Test Number :  2 \n",
      "\n",
      "The random index:  4861 \n",
      "\n",
      "The result array: \n",
      "[[0. 0. 0. 0. 0. 0. 0. 1. 0. 0.]] \n",
      "\n",
      "The program predicted : =>>  [7]\n",
      "The number is : =>>  [7]\n",
      "===================\n",
      "Test Number :  3 \n",
      "\n",
      "The random index:  1220 \n",
      "\n",
      "The result array: \n",
      "[[1. 0. 0. 0. 0. 0. 0. 0. 0. 0.]] \n",
      "\n",
      "The program predicted : =>>  [0]\n",
      "The number is : =>>  [0]\n",
      "===================\n",
      "============================\n",
      "        1 Load an image\n",
      "        2 Run test\n",
      "        3 Exit \n"
     ]
    }
   ],
   "source": [
    "print(\"Load an image on your system\")\n",
    "\n",
    "opt=True\n",
    "while opt:\n",
    "    print(\"============================\")\n",
    "    print(\"\"\"        1 Load an image\n",
    "        2 Run test\n",
    "        3 Exit \"\"\")\n",
    "    opt= input(\"Choose an option \")\n",
    "    print(\"============================\")\n",
    "    #https://stackoverflow.com/questions/19964603/creating-a-menu-in-python\n",
    "\n",
    "    if opt == \"1\":\n",
    "        loadImage()\n",
    "    elif opt == \"2\":\n",
    "        testCases()\n",
    "    elif opt == \"3\":\n",
    "        exit()\n",
    "    else:\n",
    "        print(\"Invalid Entry Try Again\")"
   ]
  },
  {
   "cell_type": "markdown",
   "metadata": {},
   "source": [
    "The programs prediction is outputted and it has guessed correctly.\n",
    "![menu2](img/menu2.PNG)\n"
   ]
  },
  {
   "cell_type": "markdown",
   "metadata": {},
   "source": [
    "Option 2 allows the user to run tests\n",
    "![menu3](img/menu3.PNG)"
   ]
  },
  {
   "cell_type": "markdown",
   "metadata": {},
   "source": [
    "Option 3 exits the program."
   ]
  },
  {
   "cell_type": "markdown",
   "metadata": {},
   "source": [
    "## End"
   ]
  }
 ],
 "metadata": {
  "kernelspec": {
   "display_name": "Python 3",
   "language": "python",
   "name": "python3"
  },
  "language_info": {
   "codemirror_mode": {
    "name": "ipython",
    "version": 3
   },
   "file_extension": ".py",
   "mimetype": "text/x-python",
   "name": "python",
   "nbconvert_exporter": "python",
   "pygments_lexer": "ipython3",
   "version": "3.6.5"
  }
 },
 "nbformat": 4,
 "nbformat_minor": 2
}
